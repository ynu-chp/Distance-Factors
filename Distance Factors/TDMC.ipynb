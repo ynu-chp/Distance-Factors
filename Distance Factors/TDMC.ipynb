{
 "cells": [
  {
   "cell_type": "code",
   "execution_count": 1,
   "id": "cc1bb452",
   "metadata": {},
   "outputs": [],
   "source": [
    "import numpy as np\n",
    "import pandas as pd\n",
    "import math\n",
    "import os"
   ]
  },
  {
   "cell_type": "code",
   "execution_count": 2,
   "id": "b9194f8c",
   "metadata": {},
   "outputs": [],
   "source": [
    "def getGetThreshold(depart,road,b,K,l,B_prime):#失败离开者编号、用户信息、用户报价、当前阶段、总阶段数、当前预算\n",
    "    path=r'C:\\Users\\98306\\Desktop\\实验\\Real map\\poi次数分布(总次数为1241).xlsx'\n",
    "    df=pd.read_excel(path)\n",
    "    arr_df = df.to_numpy().flatten()\n",
    "    total_value=0#总价值\n",
    "    total_b=0#总报价\n",
    "    U=2#效率上界\n",
    "    L=1#效率下界\n",
    "    st=np.zeros(road.shape[0])#标记数组\n",
    "    for i in range(len(depart)):#最多把失败者全选了\n",
    "        idx=-1\n",
    "        cnt=0\n",
    "        for j in depart:\n",
    "            if st[j]==1:\n",
    "                continue\n",
    "            for k in range(road.shape[1]):\n",
    "                if arr_df[k]==0:\n",
    "                    road[j,k]=0\n",
    "            if road[j].sum()/b[j]>cnt:\n",
    "                idx=j\n",
    "                cnt=road[j].sum()/b[j]\n",
    "        if idx==-1 or b[idx]>2*(U/L)*road[idx].sum()*B_prime/(total_value+road[idx].sum()):\n",
    "            break\n",
    "        st[idx]=1\n",
    "        total_value+=road[idx].sum()#加上idx边际价值\n",
    "        total_b+=b[idx]#加上idx报价\n",
    "        for j in range(road.shape[1]):#更新poi点次数\n",
    "            if road[idx,j]>0:\n",
    "                arr_df[k]-=1\n",
    "    if total_b==0:\n",
    "        return 0\n",
    "    return (total_value/total_b)*((U/L)**(1-K))/2"
   ]
  },
  {
   "cell_type": "code",
   "execution_count": 7,
   "id": "bbc701c7",
   "metadata": {
    "scrolled": false
   },
   "outputs": [
    {
     "name": "stdout",
     "output_type": "stream",
     "text": [
      "用户数量: 700    平均价值： 13358.164071971594     平均支付预算: 2615.213984654017     平均选中人数: 24.55\n"
     ]
    }
   ],
   "source": [
    "#TDMC\n",
    "file_name=np.array([700])\n",
    "# file_name=np.array([600])\n",
    "for i in file_name:\n",
    "    root_path=os.path.join(\"C:\\\\Users\\\\98306\\\\Desktop\\\\实验\\\\final_test\\\\test\",str(i))\n",
    "    res,B_=0,0#平均价值、平均预算\n",
    "    people=0\n",
    "    for j in range(20):\n",
    "        road_path=os.path.join(root_path,str(j)+'_road.xlsx')\n",
    "        road=road=pd.read_excel(road_path)\n",
    "        road=road.to_numpy()\n",
    "        \n",
    "        b_path=os.path.join(root_path,str(j)+'_b.xlsx')\n",
    "        b=pd.read_excel(b_path,header=None)\n",
    "        b=b.to_numpy().flatten()\n",
    "        \n",
    "        path=r'C:\\Users\\98306\\Desktop\\实验\\Real map\\poi次数分布(总次数为1241).xlsx'\n",
    "        df=pd.read_excel(path)\n",
    "        arr_df = df.to_numpy().flatten()\n",
    "        B=6000\n",
    "        epsilon=0.1#初始阈值\n",
    "        Rho=epsilon#阈值\n",
    "        l=int(math.log2(road.shape[0]+1))#计算阶段数\n",
    "        K=l\n",
    "        B_prime=B/(2**l)\n",
    "        BB=B_prime#阶段总预算\n",
    "        depart=[]#未被选中用户\n",
    "        t=1#分位\n",
    "        for k in range(road.shape[0]):\n",
    "            for w in range(road.shape[1]):\n",
    "                if arr_df[w]==0:\n",
    "                    road[k,w]=0\n",
    "            if road[k].sum()/b[k]>=Rho and B_prime>=road[k].sum()/Rho:\n",
    "                res+=road[k].sum()\n",
    "                B_prime-=road[k].sum()/Rho\n",
    "                B-=road[k].sum()/Rho\n",
    "                people+=1\n",
    "                for w in range(road.shape[1]):\n",
    "                    if road[k,w]>0:\n",
    "                        arr_df[w]-=1\n",
    "            else:\n",
    "                depart.append(k)\n",
    "            if k+1==t and 2*t<=road.shape[0]+1:\n",
    "                Rho_prime=getGetThreshold(depart.copy(),road.copy(),b.copy(),K,l,BB)\n",
    "                if Rho_prime!=0:\n",
    "                    Rho=Rho_prime\n",
    "                K-=1#更新当前阶段\n",
    "                B_prime+=BB#预算翻倍\n",
    "                BB*=2\n",
    "                t*=2\n",
    "        B_+=B\n",
    "    print(\"用户数量:\",i,\"   平均价值：\",res/20,\"    平均支付预算:\",6000-B_/20,\"    平均选中人数:\",people/20)"
   ]
  },
  {
   "cell_type": "code",
   "execution_count": 42,
   "id": "b5d52194",
   "metadata": {},
   "outputs": [
    {
     "name": "stdout",
     "output_type": "stream",
     "text": [
      "U: 538.6625880971678 L: 9.255411371234318\n",
      "U: 2449.727147004589 L: 8.55514405462632\n",
      "U: 4728.5160645169635 L: 8.55514405462632\n",
      "U: 6903.02795024604 L: 5.492324580899249\n",
      "U: 6903.02795024604 L: 5.365957829055109\n",
      "U: 13577.354563070568 L: 5.365957829055109\n",
      "U: 13577.354563070568 L: 5.365957829055109\n",
      "U: 18566.61807633209 L: 5.365957829055109\n",
      "U: 18566.61807633209 L: 5.365957829055109\n"
     ]
    }
   ],
   "source": [
    "file_name=np.array([5,10,20,50,100,200,300,400,500])\n",
    "U=0\n",
    "L=1000000000\n",
    "for i in file_name:\n",
    "    root_path=os.path.join(\"C:\\\\Users\\\\98306\\\\Desktop\\\\实验\\\\final_test\\\\test\",str(i))\n",
    "    for j in range(20):\n",
    "        road_path=os.path.join(root_path,str(j)+'_road.xlsx')\n",
    "        road=pd.read_excel(road_path)\n",
    "        road=road.to_numpy()\n",
    "        \n",
    "        b_path=os.path.join(root_path,str(j)+'_b.xlsx')\n",
    "        b=pd.read_excel(b_path,header=None)\n",
    "        b=b.to_numpy().flatten()\n",
    "        for k in range(road.shape[0]):\n",
    "            if road[k].sum()/b[k]>U:\n",
    "                U=road[k].sum()/b[k]\n",
    "            if road[k].sum()/b[k]<L:\n",
    "                L=road[k].sum()/b[k]\n",
    "    print(\"U:\",U,\"L:\",L)            "
   ]
  },
  {
   "cell_type": "code",
   "execution_count": 2,
   "id": "5437654f",
   "metadata": {},
   "outputs": [
    {
     "data": {
      "text/plain": [
       "0.125"
      ]
     },
     "execution_count": 2,
     "metadata": {},
     "output_type": "execute_result"
    }
   ],
   "source": []
  },
  {
   "cell_type": "code",
   "execution_count": null,
   "id": "53bbe94e",
   "metadata": {},
   "outputs": [],
   "source": []
  }
 ],
 "metadata": {
  "kernelspec": {
   "display_name": "PT",
   "language": "python",
   "name": "pt"
  },
  "language_info": {
   "codemirror_mode": {
    "name": "ipython",
    "version": 3
   },
   "file_extension": ".py",
   "mimetype": "text/x-python",
   "name": "python",
   "nbconvert_exporter": "python",
   "pygments_lexer": "ipython3",
   "version": "3.8.15"
  }
 },
 "nbformat": 4,
 "nbformat_minor": 5
}
